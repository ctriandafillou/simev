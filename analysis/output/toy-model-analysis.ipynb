{
 "cells": [
  {
   "cell_type": "markdown",
   "metadata": {},
   "source": [
    "# Analysis of Toy Wright-Fisher simulations"
   ]
  },
  {
   "cell_type": "code",
   "execution_count": 9,
   "metadata": {},
   "outputs": [],
   "source": [
    "# Basics\n",
    "import glob, re\n",
    "import numpy as np\n",
    "import pandas as pd\n",
    "\n",
    "# Plotting\n",
    "import matplotlib.pyplot as plt\n",
    "import seaborn as sns"
   ]
  },
  {
   "cell_type": "code",
   "execution_count": 15,
   "metadata": {},
   "outputs": [
    {
     "data": {
      "text/plain": [
       "dict_keys(['more_ek/n100/rep2.out', 'more_ek/n100/rep3.out', 'more_ek/n100/rep8.out', 'more_ek/n100/rep1.txt', 'more_ek/n100/rep1.out', 'more_ek/n100/rep10.out', 'more_ek/n100/rep4.out', 'more_ek/n100/rep2.txt', 'more_ek/n100/rep7.out', 'more_ek/n100/rep9.out', 'more_ek/n100/rep5.out', 'more_ek/n100/rep6.out'])"
      ]
     },
     "execution_count": 15,
     "metadata": {},
     "output_type": "execute_result"
    }
   ],
   "source": [
    "# Read in data\n",
    "\n",
    "ns = [\"n100\", \"n1000\", \"n10000\"]\n",
    "\n",
    "n100 = {r:\n",
    "       pd.read_table(r, comment = \"#\")\n",
    "       for r in glob.glob(\"more_ek/n100/*\")}\n",
    "\n",
    "\n",
    "# for n in ns:\n",
    "#     files = glob.glob(\"more_ek/{}/*\".format(n))\n",
    "    \n",
    "#     for f, file in enumerate(files):"
   ]
  },
  {
   "cell_type": "code",
   "execution_count": 8,
   "metadata": {},
   "outputs": [
    {
     "name": "stdout",
     "output_type": "stream",
     "text": [
      "more_ek/n100\n",
      "more_ek/n1000\n",
      "more_ek/n10000\n"
     ]
    }
   ],
   "source": [
    "\n",
    "    "
   ]
  },
  {
   "cell_type": "code",
   "execution_count": null,
   "metadata": {},
   "outputs": [],
   "source": []
  }
 ],
 "metadata": {
  "kernelspec": {
   "display_name": "Python [conda env:anaconda]",
   "language": "python",
   "name": "conda-env-anaconda-py"
  },
  "language_info": {
   "codemirror_mode": {
    "name": "ipython",
    "version": 3
   },
   "file_extension": ".py",
   "mimetype": "text/x-python",
   "name": "python",
   "nbconvert_exporter": "python",
   "pygments_lexer": "ipython3",
   "version": "3.5.5"
  }
 },
 "nbformat": 4,
 "nbformat_minor": 2
}
